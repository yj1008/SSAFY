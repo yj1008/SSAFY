{
  "nbformat": 4,
  "nbformat_minor": 0,
  "metadata": {
    "colab": {
      "name": "Crawling.ipynb",
      "provenance": [],
      "collapsed_sections": [],
      "authorship_tag": "ABX9TyM+7xQ+K0KBWqi47Z+3Y2WW",
      "include_colab_link": true
    },
    "kernelspec": {
      "name": "python3",
      "display_name": "Python 3"
    }
  },
  "cells": [
    {
      "cell_type": "markdown",
      "metadata": {
        "id": "view-in-github",
        "colab_type": "text"
      },
      "source": [
        "<a href=\"https://colab.research.google.com/github/yj1008/SSAFY/blob/master/Crawling.ipynb\" target=\"_parent\"><img src=\"https://colab.research.google.com/assets/colab-badge.svg\" alt=\"Open In Colab\"/></a>"
      ]
    },
    {
      "cell_type": "code",
      "metadata": {
        "id": "S29Vnxt5D8qU",
        "colab_type": "code",
        "colab": {}
      },
      "source": [
        "!pip install lxml\n",
        "!pip install bs4\n",
        "!pip install requests\n",
        "!pip install fake_useragent"
      ],
      "execution_count": 0,
      "outputs": []
    },
    {
      "cell_type": "code",
      "metadata": {
        "id": "4_35TZ2sEAFC",
        "colab_type": "code",
        "colab": {}
      },
      "source": [
        "from bs4 import BeautifulSoup\n",
        "from fake_useragent import UserAgent \n",
        "import requests"
      ],
      "execution_count": 0,
      "outputs": []
    },
    {
      "cell_type": "markdown",
      "metadata": {
        "id": "O7NTRRPjFGhn",
        "colab_type": "text"
      },
      "source": [
        "크롤링 연습문제 #1"
      ]
    },
    {
      "cell_type": "code",
      "metadata": {
        "id": "enowLY-4DoaU",
        "colab_type": "code",
        "colab": {}
      },
      "source": [
        "testurl = \"http://www.consumerreports.org/cro/a-to-z-index/products/index.htm\"\n",
        "soup = BeautifulSoup(requests.get(testurl).text, 'lxml')\n",
        "links = soup.find_all(\"a\", attrs={'class':'products-a-z__results__item'})\n",
        "for l in links:\n",
        "  print(\"URL : \", l.get('href'))\n",
        "  print(\"Product Name : \", l.text)"
      ],
      "execution_count": 0,
      "outputs": []
    },
    {
      "cell_type": "markdown",
      "metadata": {
        "id": "xp3jAGTsFKEs",
        "colab_type": "text"
      },
      "source": [
        "크롤링 연습문제 #2"
      ]
    },
    {
      "cell_type": "code",
      "metadata": {
        "id": "oSCnjgoyDLcN",
        "colab_type": "code",
        "colab": {}
      },
      "source": [
        "testurl2 = \"https://codingbat.com/java/Warmup-1\"\n",
        "soup2 = BeautifulSoup(requests.get(testurl2).text, 'lxml')\n",
        "table = soup2.find_all('table')\n",
        "for t in table[2].find_all('a'):\n",
        "  testurl3 = \"https://codingbat.com/\" + t.attrs['href']\n",
        "  soup3 = BeautifulSoup(requests.get(testurl3).text, 'lxml')\n",
        "  div = soup3.find(\"div\", attrs={\"class\":\"minh\"})\n",
        "  divlist = list(div.next_siblings)\n",
        "  print(div.text)\n",
        "  for str in divlist[1:6:2]:\n",
        "    print(str)\n",
        "  print(\"\\n\\n\")"
      ],
      "execution_count": 0,
      "outputs": []
    }
  ]
}